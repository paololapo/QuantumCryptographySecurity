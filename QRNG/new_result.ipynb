{
 "cells": [
  {
   "cell_type": "code",
   "execution_count": 1,
   "metadata": {},
   "outputs": [],
   "source": [
    "import numpy as np\n",
    "import pandas as pd\n",
    "import matplotlib.pyplot as plt\n",
    "import scipy.io\n",
    "from scipy import stats\n",
    "from functions import *"
   ]
  },
  {
   "cell_type": "code",
   "execution_count": 2,
   "metadata": {},
   "outputs": [],
   "source": [
    "#Trusted setup\n",
    "mixed_hv = scipy.io.loadmat(\"./data/mixed_hv.mat\")\n",
    "d_hv = scipy.io.loadmat(\"./data/d_hv.mat\")\n",
    "\n",
    "#Source-DI setup: partial tomography\n",
    "mixed_da = scipy.io.loadmat(\"./data/mixed_da.mat\")\n",
    "d_da = scipy.io.loadmat(\"./data/d_da.mat\")\n",
    "\n",
    "#Source-DI setup: full tomography\n",
    "l_da = scipy.io.loadmat(\"./data/l_da.mat\")\n",
    "l_hv = scipy.io.loadmat(\"./data/l_hv.mat\")\n",
    "l_lr = scipy.io.loadmat(\"./data/l_lr.mat\")"
   ]
  },
  {
   "cell_type": "code",
   "execution_count": 3,
   "metadata": {},
   "outputs": [],
   "source": [
    "prec = 2000\n",
    "cut = 10000"
   ]
  },
  {
   "cell_type": "markdown",
   "metadata": {},
   "source": [
    "## First setup: trusted"
   ]
  },
  {
   "cell_type": "code",
   "execution_count": 4,
   "metadata": {},
   "outputs": [
    {
     "name": "stdout",
     "output_type": "stream",
     "text": [
      "Analyzing 27304309 events...\n",
      "Found 543161 coincidences on channel 2.\n",
      "Found 533206 coincidences on channel 3.\n",
      "Probabilities: (0.5046243521029538, 0.49537564789704625)\n"
     ]
    }
   ],
   "source": [
    "mixed_z = find_probabilities_from_mat_file(mixed_hv, prec, cut)"
   ]
  },
  {
   "cell_type": "code",
   "execution_count": 5,
   "metadata": {},
   "outputs": [
    {
     "name": "stdout",
     "output_type": "stream",
     "text": [
      "Analyzing 100118011 events...\n",
      "Found 970682 coincidences on channel 2.\n",
      "Found 1018332 coincidences on channel 3.\n",
      "Probabilities: (0.4880217032157642, 0.5119782967842358)\n"
     ]
    }
   ],
   "source": [
    "d_z = find_probabilities_from_mat_file(d_hv, prec, cut)"
   ]
  },
  {
   "cell_type": "code",
   "execution_count": 6,
   "metadata": {},
   "outputs": [
    {
     "name": "stdout",
     "output_type": "stream",
     "text": [
      "Min-entropy mixed state: 0.9867182654846847\n",
      "Min-entropy pure state: 0.9658454404929429\n"
     ]
    }
   ],
   "source": [
    "print(\"Min-entropy mixed state: \" + str(min_entropy(mixed_z)))\n",
    "print(\"Min-entropy pure state: \" + str(min_entropy(d_z)))"
   ]
  },
  {
   "cell_type": "markdown",
   "metadata": {},
   "source": [
    "## Second setup: partial tomography"
   ]
  },
  {
   "cell_type": "code",
   "execution_count": 7,
   "metadata": {},
   "outputs": [
    {
     "name": "stdout",
     "output_type": "stream",
     "text": [
      "Analyzing 32640567 events...\n",
      "Found 671280 coincidences on channel 2.\n",
      "Found 648017 coincidences on channel 3.\n",
      "Probabilities: (0.5088164378453071, 0.491183562154693)\n"
     ]
    }
   ],
   "source": [
    "mixed_x = find_probabilities_from_mat_file(mixed_da, prec, cut)"
   ]
  },
  {
   "cell_type": "code",
   "execution_count": 8,
   "metadata": {},
   "outputs": [
    {
     "name": "stdout",
     "output_type": "stream",
     "text": [
      "Analyzing 41916460 events...\n",
      "Found 6609 coincidences on channel 2.\n",
      "Found 850629 coincidences on channel 3.\n",
      "Probabilities: (0.007709644229490526, 0.9922903557705095)\n"
     ]
    }
   ],
   "source": [
    "d_x = find_probabilities_from_mat_file(d_da, prec, cut)"
   ]
  },
  {
   "cell_type": "code",
   "execution_count": 9,
   "metadata": {},
   "outputs": [
    {
     "name": "stdout",
     "output_type": "stream",
     "text": [
      "Mixed state\n",
      "Bound via UP: 0.00011215315138957127\n",
      "Bound via tomography: 0.0001121531513893657\n"
     ]
    }
   ],
   "source": [
    "print(\"Mixed state\")\n",
    "print(\"Bound via UP: \" + str(1-max_entropy(mixed_x)))\n",
    "print(\"Bound via tomography: \" + str(f_rho(stokes_parameters(mixed_x))))"
   ]
  },
  {
   "cell_type": "code",
   "execution_count": 10,
   "metadata": {},
   "outputs": [
    {
     "name": "stdout",
     "output_type": "stream",
     "text": [
      "Pure state\n",
      "Bound via UP: 0.7674240790222566\n",
      "Bound via tomography: 0.7674240790222571\n"
     ]
    }
   ],
   "source": [
    "print(\"Pure state\")\n",
    "print(\"Bound via UP: \" + str(1-max_entropy(d_x)))\n",
    "print(\"Bound via tomography: \" + str(f_rho(stokes_parameters(d_x))))"
   ]
  },
  {
   "cell_type": "markdown",
   "metadata": {},
   "source": [
    "## Third setup: full tomography"
   ]
  },
  {
   "cell_type": "code",
   "execution_count": 11,
   "metadata": {},
   "outputs": [
    {
     "name": "stdout",
     "output_type": "stream",
     "text": [
      "Analyzing 28019924 events...\n",
      "Found 267858 coincidences on channel 2.\n",
      "Found 270941 coincidences on channel 3.\n",
      "Probabilities: (0.497139007310704, 0.502860992689296)\n"
     ]
    }
   ],
   "source": [
    "l_z = find_probabilities_from_mat_file(l_hv, prec, cut)"
   ]
  },
  {
   "cell_type": "code",
   "execution_count": 12,
   "metadata": {},
   "outputs": [
    {
     "name": "stdout",
     "output_type": "stream",
     "text": [
      "Analyzing 25209094 events...\n",
      "Found 234945 coincidences on channel 2.\n",
      "Found 237453 coincidences on channel 3.\n",
      "Probabilities: (0.49734545870219604, 0.502654541297804)\n"
     ]
    }
   ],
   "source": [
    "l_x = find_probabilities_from_mat_file(l_da, prec, cut)"
   ]
  },
  {
   "cell_type": "code",
   "execution_count": 13,
   "metadata": {},
   "outputs": [
    {
     "name": "stdout",
     "output_type": "stream",
     "text": [
      "Analyzing 30284273 events...\n",
      "Found 544212 coincidences on channel 2.\n",
      "Found 6801 coincidences on channel 3.\n",
      "Probabilities: (0.987657278503411, 0.01234272149658901)\n"
     ]
    }
   ],
   "source": [
    "l_y = find_probabilities_from_mat_file(l_lr, prec, cut)"
   ]
  },
  {
   "cell_type": "code",
   "execution_count": 16,
   "metadata": {},
   "outputs": [
    {
     "name": "stdout",
     "output_type": "stream",
     "text": [
      "Bound via UP (x basis): 1.0166187185522979e-05\n",
      "Bound via UP (y basis): 0.7121493839721584\n",
      "Bound via tomography: 0.7122248180126551\n"
     ]
    }
   ],
   "source": [
    "print(\"Bound via UP (x basis): \" + str(1-max_entropy(l_x)))\n",
    "print(\"Bound via UP (y basis): \" + str(1-max_entropy(l_y)))\n",
    "print(\"Bound via tomography: \" + str(f_rho(stokes_parameters(l_x, l_y))))"
   ]
  }
 ],
 "metadata": {
  "kernelspec": {
   "display_name": "Python 3",
   "language": "python",
   "name": "python3"
  },
  "language_info": {
   "codemirror_mode": {
    "name": "ipython",
    "version": 3
   },
   "file_extension": ".py",
   "mimetype": "text/x-python",
   "name": "python",
   "nbconvert_exporter": "python",
   "pygments_lexer": "ipython3",
   "version": "3.11.1"
  }
 },
 "nbformat": 4,
 "nbformat_minor": 2
}
